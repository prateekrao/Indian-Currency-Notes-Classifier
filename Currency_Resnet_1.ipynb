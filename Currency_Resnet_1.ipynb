{
  "nbformat": 4,
  "nbformat_minor": 0,
  "metadata": {
    "colab": {
      "name": "Currency_Resnet_1.ipynb",
      "provenance": [],
      "collapsed_sections": [
        "lsqMSJT8oS2m",
        "xCssZqjloaZ7",
        "2go9OoXuors0",
        "QEg24MCEoxb0"
      ],
      "include_colab_link": true
    },
    "kernelspec": {
      "name": "python3",
      "display_name": "Python 3"
    },
    "accelerator": "GPU"
  },
  "cells": [
    {
      "cell_type": "markdown",
      "metadata": {
        "id": "view-in-github",
        "colab_type": "text"
      },
      "source": [
        "<a href=\"https://colab.research.google.com/github/r-prateek/Indian-Currency-Notes-Classifier/blob/main/Currency_Resnet_1.ipynb\" target=\"_parent\"><img src=\"https://colab.research.google.com/assets/colab-badge.svg\" alt=\"Open In Colab\"/></a>"
      ]
    },
    {
      "cell_type": "markdown",
      "metadata": {
        "id": "lsqMSJT8oS2m"
      },
      "source": [
        "# **Import Dataset from Kaggle**"
      ]
    },
    {
      "cell_type": "code",
      "metadata": {
        "id": "JEnYupUDv5z6"
      },
      "source": [
        "! pip install --upgrade --force-reinstall --no-deps kaggle\n",
        "from google.colab import files\n",
        "files.upload()\n",
        "! mkdir ~/.kaggle\n",
        "! cp kaggle.json ~/.kaggle/\n",
        "! chmod 600 ~/.kaggle/kaggle.json\n",
        "! kaggle datasets list\n",
        "! kaggle datasets download -d vishalmane109/indian-currency-note-images-dataset-2020\n",
        "! unzip indian-currency-note-images-dataset-2020.zip -d dataset"
      ],
      "execution_count": null,
      "outputs": []
    },
    {
      "cell_type": "markdown",
      "metadata": {
        "id": "xCssZqjloaZ7"
      },
      "source": [
        "#**Import required libraries**"
      ]
    },
    {
      "cell_type": "markdown",
      "metadata": {
        "id": "79MLUac4oiTD"
      },
      "source": [
        "\n",
        "Libraries used:\n",
        "```\n",
        "tensorflow\n",
        "matplotlib\n",
        "```"
      ]
    },
    {
      "cell_type": "code",
      "metadata": {
        "id": "iOpN0W9sxjRf"
      },
      "source": [
        "import tensorflow as tf\n",
        "import matplotlib.pyplot as plt"
      ],
      "execution_count": 7,
      "outputs": []
    },
    {
      "cell_type": "markdown",
      "metadata": {
        "id": "2go9OoXuors0"
      },
      "source": [
        "# **Data Augmentation**"
      ]
    },
    {
      "cell_type": "code",
      "metadata": {
        "id": "JDDxnwPBxpze"
      },
      "source": [
        "train_path = \"/content/dataset/Indian currency dataset v1/training\"\n",
        "test_path = \"/content/dataset/Indian currency dataset v1/validation\""
      ],
      "execution_count": 8,
      "outputs": []
    },
    {
      "cell_type": "code",
      "metadata": {
        "id": "DoakYqZtx09F"
      },
      "source": [
        "datagen = tf.keras.preprocessing.image.ImageDataGenerator(\n",
        "    rescale = 1./255,\n",
        "    rotation_range = 5,\n",
        "    #zoom_range = 0.1,\n",
        "    horizontal_flip = True,\n",
        "    vertical_flip = True,\n",
        "    #brightness_range = (3,8)\n",
        ")"
      ],
      "execution_count": 37,
      "outputs": []
    },
    {
      "cell_type": "code",
      "metadata": {
        "colab": {
          "base_uri": "https://localhost:8080/"
        },
        "id": "eqxTXPoVx3Rs",
        "outputId": "d0b4a09d-82ce-45e8-8bde-3ddb1fcaa078"
      },
      "source": [
        "train_data = datagen.flow_from_directory(\n",
        "    train_path,\n",
        "    target_size = (224, 224),\n",
        "    color_mode = 'rgb',\n",
        "    batch_size = 32,\n",
        "    shuffle = True,\n",
        "    seed = 865\n",
        ")"
      ],
      "execution_count": 38,
      "outputs": [
        {
          "output_type": "stream",
          "text": [
            "Found 3566 images belonging to 8 classes.\n"
          ],
          "name": "stdout"
        }
      ]
    },
    {
      "cell_type": "code",
      "metadata": {
        "colab": {
          "base_uri": "https://localhost:8080/"
        },
        "id": "WPwld_bLx5kz",
        "outputId": "aecd40da-a91e-4d7d-b1d5-53c618c0dae0"
      },
      "source": [
        "test_data = datagen.flow_from_directory(\n",
        "    test_path,\n",
        "    target_size = (224, 224),\n",
        "    color_mode = 'rgb',\n",
        "    batch_size = 32,\n",
        "    shuffle = True,\n",
        "    seed = 865\n",
        ")"
      ],
      "execution_count": 39,
      "outputs": [
        {
          "output_type": "stream",
          "text": [
            "Found 345 images belonging to 8 classes.\n"
          ],
          "name": "stdout"
        }
      ]
    },
    {
      "cell_type": "markdown",
      "metadata": {
        "id": "QEg24MCEoxb0"
      },
      "source": [
        "# **Using pretrained model Resnet50V2**"
      ]
    },
    {
      "cell_type": "markdown",
      "metadata": {
        "id": "N4illNgIo24S"
      },
      "source": [
        "* Using model trained on *imagenet* dataset\n",
        "* Resizing input shape to 50 x 50"
      ]
    },
    {
      "cell_type": "code",
      "metadata": {
        "colab": {
          "base_uri": "https://localhost:8080/"
        },
        "id": "F5Fz52tIx77J",
        "outputId": "2e4cdca2-34f4-4c0f-87df-64a9a31e6c7d"
      },
      "source": [
        "ptm = tf.keras.applications.MobileNetV2( \n",
        "    include_top = False,\n",
        "    weights = 'imagenet',\n",
        "    input_shape = (100, 100, 3)\n",
        ")"
      ],
      "execution_count": 41,
      "outputs": [
        {
          "output_type": "stream",
          "text": [
            "WARNING:tensorflow:`input_shape` is undefined or non-square, or `rows` is not in [96, 128, 160, 192, 224]. Weights for input shape (224, 224) will be loaded as the default.\n"
          ],
          "name": "stdout"
        }
      ]
    },
    {
      "cell_type": "code",
      "metadata": {
        "id": "V3rycfmayZll"
      },
      "source": [
        "ptm.trainable = False \n",
        "ptm.summary()"
      ],
      "execution_count": null,
      "outputs": []
    },
    {
      "cell_type": "markdown",
      "metadata": {
        "id": "uJqTZqlqpGhD"
      },
      "source": [
        "# **Creating model required**"
      ]
    },
    {
      "cell_type": "markdown",
      "metadata": {
        "id": "xok_y6VNpJq9"
      },
      "source": [
        "Features of the model:\n",
        "\n",
        "* Model has pretrained model for feature extraction\n",
        "* Uses GlobalMaxPooling2D\n",
        "* Artificial Deep Neural Network uses 3 Dense hidden layers with activations ReLu, and an output layer with activation 'Softmax'\n"
      ]
    },
    {
      "cell_type": "code",
      "metadata": {
        "id": "xfNZnzXQygjC"
      },
      "source": [
        "model = tf.keras.Sequential()"
      ],
      "execution_count": 50,
      "outputs": []
    },
    {
      "cell_type": "code",
      "metadata": {
        "id": "ZV3pdXkhykha"
      },
      "source": [
        "model.add(ptm)\n",
        "model.add(tf.keras.layers.GlobalAveragePooling2D())\n",
        "model.add(tf.keras.layers.Dropout(0.5))\n",
        "model.add(tf.keras.layers.Dense(1024, activation='relu'))\n",
        "model.add(tf.keras.layers.Dense(8, activation='softmax'))"
      ],
      "execution_count": 51,
      "outputs": []
    },
    {
      "cell_type": "code",
      "metadata": {
        "colab": {
          "base_uri": "https://localhost:8080/"
        },
        "id": "FY6QQWJXzsIb",
        "outputId": "5b864acf-b3dd-410b-897a-86183bdccb92"
      },
      "source": [
        "model.summary()"
      ],
      "execution_count": 52,
      "outputs": [
        {
          "output_type": "stream",
          "text": [
            "Model: \"sequential_5\"\n",
            "_________________________________________________________________\n",
            "Layer (type)                 Output Shape              Param #   \n",
            "=================================================================\n",
            "mobilenetv2_1.00_224 (Functi (None, 4, 4, 1280)        2257984   \n",
            "_________________________________________________________________\n",
            "global_average_pooling2d_2 ( (None, 1280)              0         \n",
            "_________________________________________________________________\n",
            "dropout_3 (Dropout)          (None, 1280)              0         \n",
            "_________________________________________________________________\n",
            "dense_16 (Dense)             (None, 1024)              1311744   \n",
            "_________________________________________________________________\n",
            "dense_17 (Dense)             (None, 8)                 8200      \n",
            "=================================================================\n",
            "Total params: 3,577,928\n",
            "Trainable params: 1,319,944\n",
            "Non-trainable params: 2,257,984\n",
            "_________________________________________________________________\n"
          ],
          "name": "stdout"
        }
      ]
    },
    {
      "cell_type": "markdown",
      "metadata": {
        "id": "ib_hSaBGpv6U"
      },
      "source": [
        "> Using *Adam* as the optimizer and loss fucnction as categorical CrossEntropy"
      ]
    },
    {
      "cell_type": "code",
      "metadata": {
        "id": "r5LrY1WOzvDD"
      },
      "source": [
        "model.compile(optimizer='adam', loss = 'categorical_crossentropy', metrics = ['accuracy'])"
      ],
      "execution_count": 53,
      "outputs": []
    },
    {
      "cell_type": "markdown",
      "metadata": {
        "id": "2r2AVuOhp5lH"
      },
      "source": [
        "> Training the model with validation data, for 40 epochs"
      ]
    },
    {
      "cell_type": "code",
      "metadata": {
        "colab": {
          "base_uri": "https://localhost:8080/"
        },
        "id": "iKUaRREez5H_",
        "outputId": "b5aa8522-3ab5-4659-ef95-8c60a908675a"
      },
      "source": [
        "history = model.fit(train_data, validation_data=test_data, epochs = 20)"
      ],
      "execution_count": 54,
      "outputs": [
        {
          "output_type": "stream",
          "text": [
            "Epoch 1/20\n",
            "112/112 [==============================] - ETA: 0s - loss: 1.8608 - accuracy: 0.3915"
          ],
          "name": "stdout"
        },
        {
          "output_type": "stream",
          "text": [
            "/usr/local/lib/python3.7/dist-packages/PIL/TiffImagePlugin.py:788: UserWarning: Corrupt EXIF data.  Expecting to read 4 bytes but only got 0. \n",
            "  warnings.warn(str(msg))\n"
          ],
          "name": "stderr"
        },
        {
          "output_type": "stream",
          "text": [
            "\b\b\b\b\b\b\b\b\b\b\b\b\b\b\b\b\b\b\b\b\b\b\b\b\b\b\b\b\b\b\b\b\b\b\b\b\b\b\b\b\b\b\b\b\b\b\b\b\b\b\b\b\b\b\b\b\b\b\b\b\b\b\b\b\b\b\b\b\b\b\b\b\b\b\b\b\b\b\b\b\b\b\b\b\r112/112 [==============================] - 274s 2s/step - loss: 1.8572 - accuracy: 0.3925 - val_loss: 0.9152 - val_accuracy: 0.6696\n",
            "Epoch 2/20\n",
            "112/112 [==============================] - 267s 2s/step - loss: 1.1074 - accuracy: 0.6119 - val_loss: 0.7964 - val_accuracy: 0.7043\n",
            "Epoch 3/20\n",
            "112/112 [==============================] - 268s 2s/step - loss: 0.9249 - accuracy: 0.6866 - val_loss: 0.7036 - val_accuracy: 0.7565\n",
            "Epoch 4/20\n",
            "112/112 [==============================] - 268s 2s/step - loss: 0.8703 - accuracy: 0.6782 - val_loss: 0.6664 - val_accuracy: 0.7797\n",
            "Epoch 5/20\n",
            "112/112 [==============================] - 270s 2s/step - loss: 0.7909 - accuracy: 0.7142 - val_loss: 0.7487 - val_accuracy: 0.7246\n",
            "Epoch 6/20\n",
            "112/112 [==============================] - 276s 2s/step - loss: 0.7475 - accuracy: 0.7294 - val_loss: 0.6373 - val_accuracy: 0.7826\n",
            "Epoch 7/20\n",
            "112/112 [==============================] - 274s 2s/step - loss: 0.7135 - accuracy: 0.7411 - val_loss: 0.5472 - val_accuracy: 0.8116\n",
            "Epoch 8/20\n",
            "112/112 [==============================] - 274s 2s/step - loss: 0.6216 - accuracy: 0.7941 - val_loss: 0.5848 - val_accuracy: 0.8058\n",
            "Epoch 9/20\n",
            "112/112 [==============================] - 274s 2s/step - loss: 0.6027 - accuracy: 0.7879 - val_loss: 0.5148 - val_accuracy: 0.8435\n",
            "Epoch 10/20\n",
            "112/112 [==============================] - 270s 2s/step - loss: 0.5650 - accuracy: 0.8137 - val_loss: 0.4814 - val_accuracy: 0.8377\n",
            "Epoch 11/20\n",
            "112/112 [==============================] - 269s 2s/step - loss: 0.5818 - accuracy: 0.7949 - val_loss: 0.4729 - val_accuracy: 0.8522\n",
            "Epoch 12/20\n",
            "112/112 [==============================] - 272s 2s/step - loss: 0.5452 - accuracy: 0.8048 - val_loss: 0.5057 - val_accuracy: 0.8232\n",
            "Epoch 13/20\n",
            "112/112 [==============================] - 274s 2s/step - loss: 0.5344 - accuracy: 0.8144 - val_loss: 0.4312 - val_accuracy: 0.8580\n",
            "Epoch 14/20\n",
            "112/112 [==============================] - 268s 2s/step - loss: 0.4874 - accuracy: 0.8253 - val_loss: 0.4588 - val_accuracy: 0.8522\n",
            "Epoch 15/20\n",
            "112/112 [==============================] - 261s 2s/step - loss: 0.4645 - accuracy: 0.8375 - val_loss: 0.4250 - val_accuracy: 0.8638\n",
            "Epoch 16/20\n",
            "112/112 [==============================] - 264s 2s/step - loss: 0.4694 - accuracy: 0.8231 - val_loss: 0.4222 - val_accuracy: 0.8580\n",
            "Epoch 17/20\n",
            "112/112 [==============================] - 264s 2s/step - loss: 0.4662 - accuracy: 0.8356 - val_loss: 0.3817 - val_accuracy: 0.8812\n",
            "Epoch 18/20\n",
            "112/112 [==============================] - 266s 2s/step - loss: 0.3976 - accuracy: 0.8595 - val_loss: 0.4536 - val_accuracy: 0.8261\n",
            "Epoch 19/20\n",
            "112/112 [==============================] - 263s 2s/step - loss: 0.4475 - accuracy: 0.8435 - val_loss: 0.3843 - val_accuracy: 0.8725\n",
            "Epoch 20/20\n",
            "112/112 [==============================] - 260s 2s/step - loss: 0.3813 - accuracy: 0.8749 - val_loss: 0.3607 - val_accuracy: 0.8841\n"
          ],
          "name": "stdout"
        }
      ]
    },
    {
      "cell_type": "markdown",
      "metadata": {
        "id": "UU0yYXp3p-rI"
      },
      "source": [
        "# **Plotting Graphs**"
      ]
    },
    {
      "cell_type": "markdown",
      "metadata": {
        "id": "LcToQPQvqAsa"
      },
      "source": [
        "> Using ```matplotlib.pyplot```\n",
        "* Plotting graph of Accuracy vs Validation Accuracy for each epoch.\n",
        "* Plotting graph of Loss vs Validation Loss for each epoch"
      ]
    },
    {
      "cell_type": "code",
      "metadata": {
        "colab": {
          "base_uri": "https://localhost:8080/",
          "height": 299
        },
        "id": "vsDicMbskw8F",
        "outputId": "081708cb-3f21-4917-9d47-82faa01f4535"
      },
      "source": [
        "plt.plot(history.history['accuracy'], label = 'Accuracy')\n",
        "plt.plot(history.history['val_accuracy'], label = 'Validation Accuracy')\n",
        "plt.xlabel('Epochs')\n",
        "plt.ylabel('Accuracy')\n",
        "plt.legend(loc = \"lower right\")"
      ],
      "execution_count": 55,
      "outputs": [
        {
          "output_type": "execute_result",
          "data": {
            "text/plain": [
              "<matplotlib.legend.Legend at 0x7f8ce20695d0>"
            ]
          },
          "metadata": {
            "tags": []
          },
          "execution_count": 55
        },
        {
          "output_type": "display_data",
          "data": {
            "image/png": "[encoded data removed]",
            "text/plain": [
              "<Figure size 432x288 with 1 Axes>"
            ]
          },
          "metadata": {
            "tags": [],
            "needs_background": "light"
          }
        }
      ]
    },
    {
      "cell_type": "code",
      "metadata": {
        "colab": {
          "base_uri": "https://localhost:8080/",
          "height": 296
        },
        "id": "xUJPavyFlOwU",
        "outputId": "dcfed18b-129a-41de-9ed2-534e6db59bc6"
      },
      "source": [
        "plt.plot(history.history['loss'], label = 'Loss')\n",
        "plt.plot(history.history['val_loss'], label = 'Validation Loss')\n",
        "plt.xlabel('Epochs')\n",
        "plt.ylabel('Loss')\n",
        "plt.legend(loc = \"upper right\")"
      ],
      "execution_count": 56,
      "outputs": [
        {
          "output_type": "execute_result",
          "data": {
            "text/plain": [
              "<matplotlib.legend.Legend at 0x7f8d3ebf5e90>"
            ]
          },
          "metadata": {
            "tags": []
          },
          "execution_count": 56
        },
        {
          "output_type": "display_data",
          "data": {
            "image/png": "[encoded data removed]",
            "text/plain": [
              "<Figure size 432x288 with 1 Axes>"
            ]
          },
          "metadata": {
            "tags": [],
            "needs_background": "light"
          }
        }
      ]
    }
  ]
}