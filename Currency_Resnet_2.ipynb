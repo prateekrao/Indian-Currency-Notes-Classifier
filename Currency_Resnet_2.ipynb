{
  "nbformat": 4,
  "nbformat_minor": 0,
  "metadata": {
    "colab": {
      "name": "Currency_Resnet_1.ipynb",
      "provenance": [],
      "collapsed_sections": [
        "lsqMSJT8oS2m",
        "xCssZqjloaZ7",
        "2go9OoXuors0",
        "QEg24MCEoxb0"
      ],
      "include_colab_link": true
    },
    "kernelspec": {
      "name": "python3",
      "display_name": "Python 3"
    },
    "accelerator": "GPU"
  },
  "cells": [
    {
      "cell_type": "markdown",
      "metadata": {
        "id": "view-in-github",
        "colab_type": "text"
      },
      "source": [
        "<a href=\"https://colab.research.google.com/github/r-prateek/Indian-Currency-Notes-Classifier/blob/main/Currency_Resnet_2.ipynb\" target=\"_parent\"><img src=\"https://colab.research.google.com/assets/colab-badge.svg\" alt=\"Open In Colab\"/></a>"
      ]
    },
    {
      "cell_type": "markdown",
      "metadata": {
        "id": "lsqMSJT8oS2m"
      },
      "source": [
        "# **Import Dataset from Kaggle**"
      ]
    },
    {
      "cell_type": "code",
      "metadata": {
        "id": "JEnYupUDv5z6"
      },
      "source": [
        "! pip install --upgrade --force-reinstall --no-deps kaggle\n",
        "from google.colab import files\n",
        "files.upload()\n",
        "! mkdir ~/.kaggle\n",
        "! cp kaggle.json ~/.kaggle/\n",
        "! chmod 600 ~/.kaggle/kaggle.json\n",
        "! kaggle datasets list\n",
        "! kaggle datasets download -d vishalmane109/indian-currency-note-images-dataset-2020\n",
        "! unzip indian-currency-note-images-dataset-2020.zip -d dataset"
      ],
      "execution_count": null,
      "outputs": []
    },
    {
      "cell_type": "markdown",
      "metadata": {
        "id": "xCssZqjloaZ7"
      },
      "source": [
        "#**Import required libraries**"
      ]
    },
    {
      "cell_type": "markdown",
      "metadata": {
        "id": "79MLUac4oiTD"
      },
      "source": [
        "\n",
        "Libraries used:\n",
        "```\n",
        "tensorflow\n",
        "matplotlib\n",
        "```"
      ]
    },
    {
      "cell_type": "code",
      "metadata": {
        "id": "iOpN0W9sxjRf"
      },
      "source": [
        "import tensorflow as tf\n",
        "import matplotlib.pyplot as plt"
      ],
      "execution_count": 2,
      "outputs": []
    },
    {
      "cell_type": "markdown",
      "metadata": {
        "id": "2go9OoXuors0"
      },
      "source": [
        "# **Data Augmentation**"
      ]
    },
    {
      "cell_type": "code",
      "metadata": {
        "id": "JDDxnwPBxpze"
      },
      "source": [
        "train_path = \"/content/dataset/Indian currency dataset v1/training\"\n",
        "test_path = \"/content/dataset/Indian currency dataset v1/validation\""
      ],
      "execution_count": 3,
      "outputs": []
    },
    {
      "cell_type": "code",
      "metadata": {
        "id": "DoakYqZtx09F"
      },
      "source": [
        "datagen = tf.keras.preprocessing.image.ImageDataGenerator(\n",
        "    rescale = 1./255,\n",
        "    rotation_range = 5,\n",
        "    #zoom_range = 0.1,\n",
        "    horizontal_flip = True,\n",
        "    vertical_flip = True,\n",
        "    #brightness_range = (3,8)\n",
        ")"
      ],
      "execution_count": 4,
      "outputs": []
    },
    {
      "cell_type": "code",
      "metadata": {
        "colab": {
          "base_uri": "https://localhost:8080/"
        },
        "id": "eqxTXPoVx3Rs",
        "outputId": "9e9d235c-cd05-4566-90a8-3a3be69c9b7d"
      },
      "source": [
        "train_data = datagen.flow_from_directory(\n",
        "    train_path,\n",
        "    target_size = (50, 50),\n",
        "    color_mode = 'rgb',\n",
        "    batch_size = 32,\n",
        "    shuffle = True,\n",
        "    seed = 865\n",
        ")"
      ],
      "execution_count": 5,
      "outputs": [
        {
          "output_type": "stream",
          "text": [
            "Found 3566 images belonging to 8 classes.\n"
          ],
          "name": "stdout"
        }
      ]
    },
    {
      "cell_type": "code",
      "metadata": {
        "colab": {
          "base_uri": "https://localhost:8080/"
        },
        "id": "WPwld_bLx5kz",
        "outputId": "2380fb48-ad39-4727-83a8-b8026e110cda"
      },
      "source": [
        "test_data = datagen.flow_from_directory(\n",
        "    test_path,\n",
        "    target_size = (50, 50),\n",
        "    color_mode = 'rgb',\n",
        "    batch_size = 32,\n",
        "    shuffle = True,\n",
        "    seed = 865\n",
        ")"
      ],
      "execution_count": 6,
      "outputs": [
        {
          "output_type": "stream",
          "text": [
            "Found 345 images belonging to 8 classes.\n"
          ],
          "name": "stdout"
        }
      ]
    },
    {
      "cell_type": "markdown",
      "metadata": {
        "id": "QEg24MCEoxb0"
      },
      "source": [
        "# **Using pretrained model Resnet50V2**"
      ]
    },
    {
      "cell_type": "markdown",
      "metadata": {
        "id": "N4illNgIo24S"
      },
      "source": [
        "* Using model trained on *imagenet* dataset\n",
        "* Resizing input shape to 50 x 50"
      ]
    },
    {
      "cell_type": "code",
      "metadata": {
        "colab": {
          "base_uri": "https://localhost:8080/"
        },
        "id": "F5Fz52tIx77J",
        "outputId": "77e8a1f3-d0f7-42c1-9660-64ec900af4ef"
      },
      "source": [
        "resnet = tf.keras.applications.ResNet50V2(\n",
        "    include_top = False,\n",
        "    weights = 'imagenet',\n",
        "    input_shape = (50, 50, 3)\n",
        ")"
      ],
      "execution_count": 7,
      "outputs": [
        {
          "output_type": "stream",
          "text": [
            "Downloading data from https://storage.googleapis.com/tensorflow/keras-applications/resnet/resnet50v2_weights_tf_dim_ordering_tf_kernels_notop.h5\n",
            "94674944/94668760 [==============================] - 1s 0us/step\n"
          ],
          "name": "stdout"
        }
      ]
    },
    {
      "cell_type": "code",
      "metadata": {
        "id": "V3rycfmayZll"
      },
      "source": [
        "resnet.trainable = False \n",
        "resnet.summary()"
      ],
      "execution_count": null,
      "outputs": []
    },
    {
      "cell_type": "markdown",
      "metadata": {
        "id": "uJqTZqlqpGhD"
      },
      "source": [
        "# **Creating model required**"
      ]
    },
    {
      "cell_type": "markdown",
      "metadata": {
        "id": "xok_y6VNpJq9"
      },
      "source": [
        "Features of the model:\n",
        "\n",
        "* Model has pretrained model for feature extraction\n",
        "* Uses GlobalMaxPooling2D\n",
        "* Artificial Deep Neural Network uses 3 Dense hidden layers with activations ReLu, and an output layer with activation 'Softmax'\n"
      ]
    },
    {
      "cell_type": "code",
      "metadata": {
        "id": "xfNZnzXQygjC"
      },
      "source": [
        "model = tf.keras.Sequential()"
      ],
      "execution_count": 9,
      "outputs": []
    },
    {
      "cell_type": "code",
      "metadata": {
        "id": "ZV3pdXkhykha"
      },
      "source": [
        "model.add(resnet)\n",
        "model.add(tf.keras.layers.GlobalMaxPool2D())\n",
        "model.add(tf.keras.layers.Dropout(0.5))\n",
        "model.add(tf.keras.layers.Dense(1024, activation='relu'))\n",
        "# model.add(tf.keras.layers.Dense(512, activation='relu'))\n",
        "model.add(tf.keras.layers.Dense(256, activation='relu'))\n",
        "# model.add(tf.keras.layers.Dense(128, activation='relu'))\n",
        "model.add(tf.keras.layers.Dense(64, activation='relu'))\n",
        "model.add(tf.keras.layers.Dense(8, activation='softmax'))"
      ],
      "execution_count": 10,
      "outputs": []
    },
    {
      "cell_type": "code",
      "metadata": {
        "colab": {
          "base_uri": "https://localhost:8080/"
        },
        "id": "FY6QQWJXzsIb",
        "outputId": "ee24b84a-0842-4790-cc00-c7e2d396909d"
      },
      "source": [
        "model.summary()"
      ],
      "execution_count": 11,
      "outputs": [
        {
          "output_type": "stream",
          "text": [
            "Model: \"sequential\"\n",
            "_________________________________________________________________\n",
            "Layer (type)                 Output Shape              Param #   \n",
            "=================================================================\n",
            "resnet50v2 (Functional)      (None, 2, 2, 2048)        23564800  \n",
            "_________________________________________________________________\n",
            "global_max_pooling2d (Global (None, 2048)              0         \n",
            "_________________________________________________________________\n",
            "dropout (Dropout)            (None, 2048)              0         \n",
            "_________________________________________________________________\n",
            "dense (Dense)                (None, 1024)              2098176   \n",
            "_________________________________________________________________\n",
            "dense_1 (Dense)              (None, 256)               262400    \n",
            "_________________________________________________________________\n",
            "dense_2 (Dense)              (None, 64)                16448     \n",
            "_________________________________________________________________\n",
            "dense_3 (Dense)              (None, 8)                 520       \n",
            "=================================================================\n",
            "Total params: 25,942,344\n",
            "Trainable params: 2,377,544\n",
            "Non-trainable params: 23,564,800\n",
            "_________________________________________________________________\n"
          ],
          "name": "stdout"
        }
      ]
    },
    {
      "cell_type": "markdown",
      "metadata": {
        "id": "ib_hSaBGpv6U"
      },
      "source": [
        "> Using *Adam* as the optimizer and loss fucnction as categorical CrossEntropy"
      ]
    },
    {
      "cell_type": "code",
      "metadata": {
        "id": "r5LrY1WOzvDD"
      },
      "source": [
        "model.compile(optimizer='adam', loss = 'categorical_crossentropy', metrics = ['accuracy'])"
      ],
      "execution_count": 12,
      "outputs": []
    },
    {
      "cell_type": "markdown",
      "metadata": {
        "id": "2r2AVuOhp5lH"
      },
      "source": [
        "> Training the model with validation data, for 40 epochs"
      ]
    },
    {
      "cell_type": "code",
      "metadata": {
        "colab": {
          "base_uri": "https://localhost:8080/"
        },
        "id": "iKUaRREez5H_",
        "outputId": "12696481-6a15-4d9d-f770-3b396992ba07"
      },
      "source": [
        "history = model.fit(train_data, validation_data=test_data, epochs = 40)"
      ],
      "execution_count": 14,
      "outputs": [
        {
          "output_type": "stream",
          "text": [
            "Epoch 1/40\n",
            "112/112 [==============================] - ETA: 0s - loss: 2.0043 - accuracy: 0.2333"
          ],
          "name": "stdout"
        },
        {
          "output_type": "stream",
          "text": [
            "/usr/local/lib/python3.7/dist-packages/PIL/TiffImagePlugin.py:788: UserWarning: Corrupt EXIF data.  Expecting to read 4 bytes but only got 0. \n",
            "  warnings.warn(str(msg))\n"
          ],
          "name": "stderr"
        },
        {
          "output_type": "stream",
          "text": [
            "\b\b\b\b\b\b\b\b\b\b\b\b\b\b\b\b\b\b\b\b\b\b\b\b\b\b\b\b\b\b\b\b\b\b\b\b\b\b\b\b\b\b\b\b\b\b\b\b\b\b\b\b\b\b\b\b\b\b\b\b\b\b\b\b\b\b\b\b\b\b\b\b\b\b\b\b\b\b\b\b\b\b\b\b\r112/112 [==============================] - 261s 2s/step - loss: 2.0043 - accuracy: 0.2333 - val_loss: 1.8814 - val_accuracy: 0.2870\n",
            "Epoch 2/40\n",
            "112/112 [==============================] - 256s 2s/step - loss: 1.8229 - accuracy: 0.3121 - val_loss: 1.7613 - val_accuracy: 0.3362\n",
            "Epoch 3/40\n",
            "112/112 [==============================] - 255s 2s/step - loss: 1.7158 - accuracy: 0.3623 - val_loss: 1.6282 - val_accuracy: 0.3942\n",
            "Epoch 4/40\n",
            "112/112 [==============================] - 254s 2s/step - loss: 1.6635 - accuracy: 0.3828 - val_loss: 1.5316 - val_accuracy: 0.4522\n",
            "Epoch 5/40\n",
            "112/112 [==============================] - 252s 2s/step - loss: 1.6011 - accuracy: 0.4117 - val_loss: 1.5396 - val_accuracy: 0.4406\n",
            "Epoch 6/40\n",
            "112/112 [==============================] - 253s 2s/step - loss: 1.5505 - accuracy: 0.4302 - val_loss: 1.5161 - val_accuracy: 0.4551\n",
            "Epoch 7/40\n",
            "112/112 [==============================] - 253s 2s/step - loss: 1.4925 - accuracy: 0.4391 - val_loss: 1.4100 - val_accuracy: 0.5072\n",
            "Epoch 8/40\n",
            "112/112 [==============================] - 251s 2s/step - loss: 1.4603 - accuracy: 0.4655 - val_loss: 1.4062 - val_accuracy: 0.5159\n",
            "Epoch 9/40\n",
            "112/112 [==============================] - 251s 2s/step - loss: 1.4334 - accuracy: 0.4877 - val_loss: 1.4430 - val_accuracy: 0.4696\n",
            "Epoch 10/40\n",
            "112/112 [==============================] - 251s 2s/step - loss: 1.3737 - accuracy: 0.4961 - val_loss: 1.4114 - val_accuracy: 0.5014\n",
            "Epoch 11/40\n",
            "112/112 [==============================] - 249s 2s/step - loss: 1.3672 - accuracy: 0.5028 - val_loss: 1.3502 - val_accuracy: 0.5101\n",
            "Epoch 12/40\n",
            "112/112 [==============================] - 250s 2s/step - loss: 1.3123 - accuracy: 0.5250 - val_loss: 1.2550 - val_accuracy: 0.5507\n",
            "Epoch 13/40\n",
            "112/112 [==============================] - 252s 2s/step - loss: 1.3066 - accuracy: 0.5269 - val_loss: 1.2630 - val_accuracy: 0.5681\n",
            "Epoch 14/40\n",
            "112/112 [==============================] - 253s 2s/step - loss: 1.2756 - accuracy: 0.5393 - val_loss: 1.2666 - val_accuracy: 0.5623\n",
            "Epoch 15/40\n",
            "112/112 [==============================] - 251s 2s/step - loss: 1.2808 - accuracy: 0.5390 - val_loss: 1.2896 - val_accuracy: 0.5739\n",
            "Epoch 16/40\n",
            "112/112 [==============================] - 251s 2s/step - loss: 1.2109 - accuracy: 0.5586 - val_loss: 1.2350 - val_accuracy: 0.5768\n",
            "Epoch 17/40\n",
            "112/112 [==============================] - 250s 2s/step - loss: 1.2217 - accuracy: 0.5555 - val_loss: 1.1304 - val_accuracy: 0.6290\n",
            "Epoch 18/40\n",
            "112/112 [==============================] - 251s 2s/step - loss: 1.1712 - accuracy: 0.5824 - val_loss: 1.1953 - val_accuracy: 0.6145\n",
            "Epoch 19/40\n",
            "112/112 [==============================] - 252s 2s/step - loss: 1.1482 - accuracy: 0.5827 - val_loss: 1.2057 - val_accuracy: 0.5942\n",
            "Epoch 20/40\n",
            "112/112 [==============================] - 251s 2s/step - loss: 1.1624 - accuracy: 0.5791 - val_loss: 1.1675 - val_accuracy: 0.6029\n",
            "Epoch 21/40\n",
            "112/112 [==============================] - 250s 2s/step - loss: 1.1237 - accuracy: 0.5979 - val_loss: 1.2497 - val_accuracy: 0.5855\n",
            "Epoch 22/40\n",
            "112/112 [==============================] - 251s 2s/step - loss: 1.1116 - accuracy: 0.6094 - val_loss: 1.1769 - val_accuracy: 0.5884\n",
            "Epoch 23/40\n",
            "112/112 [==============================] - 252s 2s/step - loss: 1.0625 - accuracy: 0.6304 - val_loss: 1.1652 - val_accuracy: 0.5942\n",
            "Epoch 24/40\n",
            "112/112 [==============================] - 252s 2s/step - loss: 1.0700 - accuracy: 0.6189 - val_loss: 1.1272 - val_accuracy: 0.6174\n",
            "Epoch 25/40\n",
            "112/112 [==============================] - 252s 2s/step - loss: 1.0280 - accuracy: 0.6346 - val_loss: 1.0913 - val_accuracy: 0.6522\n",
            "Epoch 26/40\n",
            "112/112 [==============================] - 253s 2s/step - loss: 1.0006 - accuracy: 0.6335 - val_loss: 1.0932 - val_accuracy: 0.6522\n",
            "Epoch 27/40\n",
            "112/112 [==============================] - 250s 2s/step - loss: 1.0055 - accuracy: 0.6380 - val_loss: 1.1405 - val_accuracy: 0.6174\n",
            "Epoch 28/40\n",
            "112/112 [==============================] - 251s 2s/step - loss: 0.9932 - accuracy: 0.6436 - val_loss: 1.2261 - val_accuracy: 0.5913\n",
            "Epoch 29/40\n",
            "112/112 [==============================] - 251s 2s/step - loss: 0.9640 - accuracy: 0.6556 - val_loss: 1.0908 - val_accuracy: 0.6319\n",
            "Epoch 30/40\n",
            "112/112 [==============================] - 253s 2s/step - loss: 0.9753 - accuracy: 0.6523 - val_loss: 1.0898 - val_accuracy: 0.6493\n",
            "Epoch 31/40\n",
            "112/112 [==============================] - 254s 2s/step - loss: 0.9586 - accuracy: 0.6573 - val_loss: 1.1772 - val_accuracy: 0.6174\n",
            "Epoch 32/40\n",
            "112/112 [==============================] - 254s 2s/step - loss: 0.9401 - accuracy: 0.6621 - val_loss: 1.1002 - val_accuracy: 0.6464\n",
            "Epoch 33/40\n",
            "112/112 [==============================] - 253s 2s/step - loss: 0.9112 - accuracy: 0.6896 - val_loss: 1.0787 - val_accuracy: 0.6261\n",
            "Epoch 34/40\n",
            "112/112 [==============================] - 252s 2s/step - loss: 0.9149 - accuracy: 0.6747 - val_loss: 1.0488 - val_accuracy: 0.6493\n",
            "Epoch 35/40\n",
            "112/112 [==============================] - 252s 2s/step - loss: 0.8716 - accuracy: 0.6918 - val_loss: 1.0822 - val_accuracy: 0.6232\n",
            "Epoch 36/40\n",
            "112/112 [==============================] - 251s 2s/step - loss: 0.8805 - accuracy: 0.6848 - val_loss: 1.1294 - val_accuracy: 0.6232\n",
            "Epoch 37/40\n",
            "112/112 [==============================] - 254s 2s/step - loss: 0.8562 - accuracy: 0.6952 - val_loss: 0.9756 - val_accuracy: 0.6783\n",
            "Epoch 38/40\n",
            "112/112 [==============================] - 254s 2s/step - loss: 0.8667 - accuracy: 0.6907 - val_loss: 1.1238 - val_accuracy: 0.6435\n",
            "Epoch 39/40\n",
            "112/112 [==============================] - 253s 2s/step - loss: 0.8414 - accuracy: 0.7050 - val_loss: 1.0883 - val_accuracy: 0.6116\n",
            "Epoch 40/40\n",
            "112/112 [==============================] - 253s 2s/step - loss: 0.8071 - accuracy: 0.7241 - val_loss: 1.0761 - val_accuracy: 0.6580\n"
          ],
          "name": "stdout"
        }
      ]
    },
    {
      "cell_type": "markdown",
      "metadata": {
        "id": "UU0yYXp3p-rI"
      },
      "source": [
        "# **Plotting Graphs**"
      ]
    },
    {
      "cell_type": "markdown",
      "metadata": {
        "id": "LcToQPQvqAsa"
      },
      "source": [
        "> Using ```matplotlib.pyplot```\n",
        "* Plotting graph of Accuracy vs Validation Accuracy for each epoch.\n",
        "* Plotting graph of Loss vs Validation Loss for each epoch"
      ]
    },
    {
      "cell_type": "code",
      "metadata": {
        "colab": {
          "base_uri": "https://localhost:8080/",
          "height": 296
        },
        "id": "vsDicMbskw8F",
        "outputId": "ee57aee0-865d-4f6e-a25d-4342b61d63f9"
      },
      "source": [
        "plt.plot(history.history['accuracy'], label = 'Accuracy')\n",
        "plt.plot(history.history['val_accuracy'], label = 'Validation Accuracy')\n",
        "plt.xlabel('Epochs')\n",
        "plt.ylabel('Accuracy')\n",
        "plt.legend(loc = \"lower right\")"
      ],
      "execution_count": 15,
      "outputs": [
        {
          "output_type": "execute_result",
          "data": {
            "text/plain": [
              "<matplotlib.legend.Legend at 0x7fba2d298f90>"
            ]
          },
          "metadata": {
            "tags": []
          },
          "execution_count": 15
        },
        {
          "output_type": "display_data",
          "data": {
            "image/png": "[encoded data removed]",
            "text/plain": [
              "<Figure size 432x288 with 1 Axes>"
            ]
          },
          "metadata": {
            "tags": [],
            "needs_background": "light"
          }
        }
      ]
    },
    {
      "cell_type": "code",
      "metadata": {
        "colab": {
          "base_uri": "https://localhost:8080/",
          "height": 296
        },
        "id": "xUJPavyFlOwU",
        "outputId": "a4565ccf-f43a-4002-d86c-e869e058d8ed"
      },
      "source": [
        "plt.plot(history.history['loss'], label = 'Loss')\n",
        "plt.plot(history.history['val_loss'], label = 'Validation Loss')\n",
        "plt.xlabel('Epochs')\n",
        "plt.ylabel('Loss')\n",
        "plt.legend(loc = \"upper right\")"
      ],
      "execution_count": 16,
      "outputs": [
        {
          "output_type": "execute_result",
          "data": {
            "text/plain": [
              "<matplotlib.legend.Legend at 0x7fba2cd96d90>"
            ]
          },
          "metadata": {
            "tags": []
          },
          "execution_count": 16
        },
        {
          "output_type": "display_data",
          "data": {
            "image/png": "[encoded data removed]",
            "text/plain": [
              "<Figure size 432x288 with 1 Axes>"
            ]
          },
          "metadata": {
            "tags": [],
            "needs_background": "light"
          }
        }
      ]
    }
  ]
}