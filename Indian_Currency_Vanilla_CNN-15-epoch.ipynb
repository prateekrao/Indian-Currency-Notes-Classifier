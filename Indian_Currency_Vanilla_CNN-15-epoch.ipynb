{
  "nbformat": 4,
  "nbformat_minor": 0,
  "metadata": {
    "colab": {
      "name": "Indian-Currency-Vanilla-CNN.ipynb",
      "provenance": [],
      "authorship_tag": "ABX9TyPMUe2EA1mGqXg2PUWKaTvS",
      "include_colab_link": true
    },
    "kernelspec": {
      "name": "python3",
      "display_name": "Python 3"
    },
    "accelerator": "GPU"
  },
  "cells": [
    {
      "cell_type": "markdown",
      "metadata": {
        "id": "view-in-github",
        "colab_type": "text"
      },
      "source": [
        "<a href=\"https://colab.research.google.com/github/r-prateek/Indian-Currency-Notes-Classifier/blob/main/Indian_Currency_Vanilla_CNN-15-epoch.ipynb\" target=\"_parent\"><img src=\"https://colab.research.google.com/assets/colab-badge.svg\" alt=\"Open In Colab\"/></a>"
      ]
    },
    {
      "cell_type": "markdown",
      "metadata": {
        "id": "QV7-Lm9Dlcmv"
      },
      "source": [
        "#**Importing Dataset from Kaggle**"
      ]
    },
    {
      "cell_type": "code",
      "metadata": {
        "id": "EQXmRG6BlhnK"
      },
      "source": [
        "! pip install --upgrade --force-reinstall --no-deps kaggle\n",
        "from google.colab import files\n",
        "files.upload()\n",
        "! mkdir ~/.kaggle\n",
        "! cp kaggle.json ~/.kaggle/\n",
        "! chmod 600 ~/.kaggle/kaggle.json\n",
        "! kaggle datasets list\n",
        "! kaggle datasets download -d vishalmane109/indian-currency-note-images-dataset-2020\n",
        "! unzip indian-currency-note-images-dataset-2020.zip -d dataset"
      ],
      "execution_count": null,
      "outputs": []
    },
    {
      "cell_type": "markdown",
      "metadata": {
        "id": "TwTtN458mb2p"
      },
      "source": [
        "#**Using Image Generator for Data Augmentation and initializing paths for the datasets.**\n",
        "\n",
        "Libraries used are:\n",
        "```\n",
        "tensorflow\n",
        "matplotlib\n",
        "```"
      ]
    },
    {
      "cell_type": "code",
      "metadata": {
        "id": "vahQLSzomzeN"
      },
      "source": [
        "import tensorflow as tf\n",
        "import matplotlib.pyplot as plt"
      ],
      "execution_count": 5,
      "outputs": []
    },
    {
      "cell_type": "code",
      "metadata": {
        "id": "YsNN8tgWm5d5"
      },
      "source": [
        "train_path = \"/content/dataset/Indian currency dataset v1/training\"\n",
        "test_path = \"/content/dataset/Indian currency dataset v1/validation\""
      ],
      "execution_count": 6,
      "outputs": []
    },
    {
      "cell_type": "markdown",
      "metadata": {
        "id": "BGe2YaBLnTDZ"
      },
      "source": [
        "##Data Augmentation"
      ]
    },
    {
      "cell_type": "code",
      "metadata": {
        "id": "gmGR0tSVnXNl"
      },
      "source": [
        "datagen = tf.keras.preprocessing.image.ImageDataGenerator(\n",
        "    rescale = 1./255,\n",
        "    horizontal_flip = True,\n",
        "    vertical_flip = True,\n",
        "    rotation_range= 5\n",
        ")"
      ],
      "execution_count": 7,
      "outputs": []
    },
    {
      "cell_type": "code",
      "metadata": {
        "id": "caGEDkprn5RQ"
      },
      "source": [
        "train_data = datagen.flow_from_directory(\n",
        "    train_path,\n",
        "    target_size = (190, 190),\n",
        "    color_mode = 'rgb',\n",
        "    batch_size = 32,\n",
        "    shuffle = True,\n",
        "    seed = 865,\n",
        ")"
      ],
      "execution_count": null,
      "outputs": []
    },
    {
      "cell_type": "code",
      "metadata": {
        "id": "kDIfgId2ovw4"
      },
      "source": [
        "test_data = datagen.flow_from_directory(\n",
        "    test_path,\n",
        "    target_size = (190, 190),\n",
        "    color_mode = 'rgb',\n",
        "    batch_size = 32,\n",
        "    shuffle = True,\n",
        "    seed = 865\n",
        ")"
      ],
      "execution_count": null,
      "outputs": []
    },
    {
      "cell_type": "markdown",
      "metadata": {
        "id": "11sd3YStpJWm"
      },
      "source": [
        "#**Creating the Model**"
      ]
    },
    {
      "cell_type": "markdown",
      "metadata": {
        "id": "oV3NyNHdpUTB"
      },
      "source": [
        "##Convolutional Neural Network"
      ]
    },
    {
      "cell_type": "markdown",
      "metadata": {
        "id": "XAQHBaWdpdMU"
      },
      "source": [
        "The convolutional neural network plays an important role in feature extraction from the input image, sufficiently changing the weights (filter)."
      ]
    },
    {
      "cell_type": "code",
      "metadata": {
        "id": "jsfKM0hNpu1H"
      },
      "source": [
        "model = tf.keras.models.Sequential()\n",
        "\n",
        "model.add(tf.keras.layers.Conv2D(32, (3,3), activation = 'relu', input_shape = (190, 190, 3)))\n",
        "model.add(tf.keras.layers.MaxPooling2D((2,2)))\n",
        "\n",
        "model.add(tf.keras.layers.Conv2D(64, (3,3), activation= 'relu'))\n",
        "model.add(tf.keras.layers.MaxPooling2D((2,2)))\n",
        "\n",
        "model.add(tf.keras.layers.Conv2D(64, (3,3), activation= 'relu'))\n",
        "# model.add(tf.keras.layers.MaxPooling2D((2,2)))\n"
      ],
      "execution_count": 10,
      "outputs": []
    },
    {
      "cell_type": "markdown",
      "metadata": {
        "id": "aH1Rrp5XwALH"
      },
      "source": [
        "##Artificial Deep Neural Network"
      ]
    },
    {
      "cell_type": "markdown",
      "metadata": {
        "id": "SuIFvYptwOOs"
      },
      "source": [
        "The Artificial Deep Neural Network flattens the input fed by the Convolutional network, and classifies images into respective classes.\n"
      ]
    },
    {
      "cell_type": "code",
      "metadata": {
        "id": "TlQOdDa4whLi"
      },
      "source": [
        "model.add(tf.keras.layers.Dropout(0.5))\n",
        "model.add(tf.keras.layers.Flatten())\n",
        "\n",
        "model.add(tf.keras.layers.Dense(32, activation= 'relu'))\n",
        "model.add(tf.keras.layers.Dense(64, activation= 'relu'))\n",
        "model.add(tf.keras.layers.Dense(8, activation= 'softmax'))"
      ],
      "execution_count": 11,
      "outputs": []
    },
    {
      "cell_type": "markdown",
      "metadata": {
        "id": "HQz6IP5exReB"
      },
      "source": [
        "##Compiling and Summarising the model\n",
        "\n",
        "*  Optimizer used is **Adam**\n",
        "*  Loss function used is **Categorical CrossEntropy**\n"
      ]
    },
    {
      "cell_type": "code",
      "metadata": {
        "id": "IQtGzPJ8xhUD"
      },
      "source": [
        "model.compile(optimizer= 'adam', loss = 'categorical_crossentropy', metrics = ['accuracy'])"
      ],
      "execution_count": 12,
      "outputs": []
    },
    {
      "cell_type": "code",
      "metadata": {
        "colab": {
          "base_uri": "https://localhost:8080/"
        },
        "id": "vgeG0ghTxqf3",
        "outputId": "cdcfa3c8-ca49-4bdd-ac9b-ef2054a31247"
      },
      "source": [
        "model.summary()"
      ],
      "execution_count": 13,
      "outputs": [
        {
          "output_type": "stream",
          "text": [
            "Model: \"sequential\"\n",
            "_________________________________________________________________\n",
            "Layer (type)                 Output Shape              Param #   \n",
            "=================================================================\n",
            "conv2d (Conv2D)              (None, 188, 188, 32)      896       \n",
            "_________________________________________________________________\n",
            "max_pooling2d (MaxPooling2D) (None, 94, 94, 32)        0         \n",
            "_________________________________________________________________\n",
            "conv2d_1 (Conv2D)            (None, 92, 92, 64)        18496     \n",
            "_________________________________________________________________\n",
            "max_pooling2d_1 (MaxPooling2 (None, 46, 46, 64)        0         \n",
            "_________________________________________________________________\n",
            "conv2d_2 (Conv2D)            (None, 44, 44, 64)        36928     \n",
            "_________________________________________________________________\n",
            "dropout (Dropout)            (None, 44, 44, 64)        0         \n",
            "_________________________________________________________________\n",
            "flatten (Flatten)            (None, 123904)            0         \n",
            "_________________________________________________________________\n",
            "dense (Dense)                (None, 32)                3964960   \n",
            "_________________________________________________________________\n",
            "dense_1 (Dense)              (None, 64)                2112      \n",
            "_________________________________________________________________\n",
            "dense_2 (Dense)              (None, 8)                 520       \n",
            "=================================================================\n",
            "Total params: 4,023,912\n",
            "Trainable params: 4,023,912\n",
            "Non-trainable params: 0\n",
            "_________________________________________________________________\n"
          ],
          "name": "stdout"
        }
      ]
    },
    {
      "cell_type": "markdown",
      "metadata": {
        "id": "xnPmUjhex44U"
      },
      "source": [
        "#**Training the Model**"
      ]
    },
    {
      "cell_type": "markdown",
      "metadata": {
        "id": "BUd_2l-Tx-aR"
      },
      "source": [
        "The Sequential model is trained on the augmented training dataset, and the validation data set will be the augmented test dataset. The model will be trained for **15 epochs**"
      ]
    },
    {
      "cell_type": "code",
      "metadata": {
        "colab": {
          "base_uri": "https://localhost:8080/"
        },
        "id": "vpefjsWWyR_J",
        "outputId": "d2c0989c-4ec1-4615-ed28-591c1a26fcd2"
      },
      "source": [
        "history = model.fit(train_data, validation_data= test_data, epochs = 15, batch_size = 2000)"
      ],
      "execution_count": 15,
      "outputs": [
        {
          "output_type": "stream",
          "text": [
            "Epoch 1/15\n",
            "112/112 [==============================] - ETA: 0s - loss: 1.6462 - accuracy: 0.3878"
          ],
          "name": "stdout"
        },
        {
          "output_type": "stream",
          "text": [
            "/usr/local/lib/python3.7/dist-packages/PIL/TiffImagePlugin.py:788: UserWarning: Corrupt EXIF data.  Expecting to read 4 bytes but only got 0. \n",
            "  warnings.warn(str(msg))\n"
          ],
          "name": "stderr"
        },
        {
          "output_type": "stream",
          "text": [
            "\b\b\b\b\b\b\b\b\b\b\b\b\b\b\b\b\b\b\b\b\b\b\b\b\b\b\b\b\b\b\b\b\b\b\b\b\b\b\b\b\b\b\b\b\b\b\b\b\b\b\b\b\b\b\b\b\b\b\b\b\b\b\b\b\b\b\b\b\b\b\b\b\b\b\b\b\b\b\b\b\b\b\b\b\r112/112 [==============================] - 256s 2s/step - loss: 1.6462 - accuracy: 0.3878 - val_loss: 1.5699 - val_accuracy: 0.4058\n",
            "Epoch 2/15\n",
            "112/112 [==============================] - 256s 2s/step - loss: 1.5096 - accuracy: 0.4495 - val_loss: 1.5094 - val_accuracy: 0.4290\n",
            "Epoch 3/15\n",
            "112/112 [==============================] - 255s 2s/step - loss: 1.3966 - accuracy: 0.4966 - val_loss: 1.4217 - val_accuracy: 0.4812\n",
            "Epoch 4/15\n",
            "112/112 [==============================] - 255s 2s/step - loss: 1.2755 - accuracy: 0.5446 - val_loss: 1.2664 - val_accuracy: 0.5333\n",
            "Epoch 5/15\n",
            "112/112 [==============================] - 254s 2s/step - loss: 1.1518 - accuracy: 0.5791 - val_loss: 1.1937 - val_accuracy: 0.6029\n",
            "Epoch 6/15\n",
            "112/112 [==============================] - 255s 2s/step - loss: 1.1374 - accuracy: 0.5900 - val_loss: 1.1634 - val_accuracy: 0.6116\n",
            "Epoch 7/15\n",
            "112/112 [==============================] - 255s 2s/step - loss: 0.9834 - accuracy: 0.6528 - val_loss: 0.9764 - val_accuracy: 0.6609\n",
            "Epoch 8/15\n",
            "112/112 [==============================] - 256s 2s/step - loss: 0.8984 - accuracy: 0.6873 - val_loss: 0.9496 - val_accuracy: 0.6667\n",
            "Epoch 9/15\n",
            "112/112 [==============================] - 256s 2s/step - loss: 0.8116 - accuracy: 0.7047 - val_loss: 0.8486 - val_accuracy: 0.6986\n",
            "Epoch 10/15\n",
            "112/112 [==============================] - 256s 2s/step - loss: 0.7194 - accuracy: 0.7490 - val_loss: 0.8505 - val_accuracy: 0.7246\n",
            "Epoch 11/15\n",
            "112/112 [==============================] - 256s 2s/step - loss: 0.6233 - accuracy: 0.7858 - val_loss: 0.8733 - val_accuracy: 0.7333\n",
            "Epoch 12/15\n",
            "112/112 [==============================] - 257s 2s/step - loss: 0.5859 - accuracy: 0.7958 - val_loss: 0.8342 - val_accuracy: 0.7739\n",
            "Epoch 13/15\n",
            "112/112 [==============================] - 255s 2s/step - loss: 0.5621 - accuracy: 0.8090 - val_loss: 0.7383 - val_accuracy: 0.7710\n",
            "Epoch 14/15\n",
            "112/112 [==============================] - 254s 2s/step - loss: 0.5528 - accuracy: 0.8099 - val_loss: 0.7889 - val_accuracy: 0.7449\n",
            "Epoch 15/15\n",
            "112/112 [==============================] - 254s 2s/step - loss: 0.5011 - accuracy: 0.8228 - val_loss: 0.7179 - val_accuracy: 0.7681\n"
          ],
          "name": "stdout"
        }
      ]
    },
    {
      "cell_type": "markdown",
      "metadata": {
        "id": "vJMluZ5vTNBx"
      },
      "source": [
        "#**Plotting the graph of accuracy and loss against their validation values**"
      ]
    },
    {
      "cell_type": "markdown",
      "metadata": {
        "id": "XLrYGUNDTiWv"
      },
      "source": [
        "Using the plot function in ``` matplotlib.pyplot```, we can plot the graphs of accuracy vs validation_accuracy, as well as the graph of loss vs validation loss. \n",
        "\n",
        "We can also determine if our model is *overfitting* by analysing these graphs."
      ]
    },
    {
      "cell_type": "code",
      "metadata": {
        "id": "Fc8Xi5-VT5v4",
        "outputId": "d56ab5cc-c5b2-4faf-fd48-006aed3ec97f",
        "colab": {
          "base_uri": "https://localhost:8080/",
          "height": 296
        }
      },
      "source": [
        "plt.plot(history.history['accuracy'], label = 'accuracy')\n",
        "plt.plot(history.history['val_accuracy'], label = 'validation accuracy')\n",
        "plt.xlabel('epochs')\n",
        "plt.ylabel('accuracy')\n",
        "plt.legend('lower right')"
      ],
      "execution_count": 17,
      "outputs": [
        {
          "output_type": "execute_result",
          "data": {
            "text/plain": [
              "<matplotlib.legend.Legend at 0x7fd5b99e2e50>"
            ]
          },
          "metadata": {
            "tags": []
          },
          "execution_count": 17
        },
        {
          "output_type": "display_data",
          "data": {
            "image/png": "[encoded data removed]",
            "text/plain": [
              "<Figure size 432x288 with 1 Axes>"
            ]
          },
          "metadata": {
            "tags": [],
            "needs_background": "light"
          }
        }
      ]
    },
    {
      "cell_type": "code",
      "metadata": {
        "id": "dopr7to5VTd0",
        "outputId": "d4f9253e-cce0-4b1c-c1e5-b021fb79523c",
        "colab": {
          "base_uri": "https://localhost:8080/",
          "height": 296
        }
      },
      "source": [
        "plt.plot(history.history['loss'], label = 'loss')\n",
        "plt.plot(history.history['val_loss'], label = 'validation loss')\n",
        "plt.xlabel('epochs')\n",
        "plt.ylabel('loss')\n",
        "plt.legend('lower right')\n"
      ],
      "execution_count": 19,
      "outputs": [
        {
          "output_type": "execute_result",
          "data": {
            "text/plain": [
              "<matplotlib.legend.Legend at 0x7fd5b98dc310>"
            ]
          },
          "metadata": {
            "tags": []
          },
          "execution_count": 19
        },
        {
          "output_type": "display_data",
          "data": {
            "image/png": "[encoded data removed]",
            "text/plain": [
              "<Figure size 432x288 with 1 Axes>"
            ]
          },
          "metadata": {
            "tags": [],
            "needs_background": "light"
          }
        }
      ]
    },
    {
      "cell_type": "code",
      "metadata": {
        "id": "ho7Rtr3XwEhR"
      },
      "source": [
        "model.save('indian_notes.h5')"
      ],
      "execution_count": 20,
      "outputs": []
    }
  ]
}